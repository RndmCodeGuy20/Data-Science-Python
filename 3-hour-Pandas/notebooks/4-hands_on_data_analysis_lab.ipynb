{
 "cells": [
  {
   "cell_type": "markdown",
   "id": "5d620868-e093-4c85-95bf-273e36131c37",
   "metadata": {
    "slideshow": {
     "slide_type": "slide"
    },
    "tags": []
   },
   "source": [
    "# Section 4: Hands-On Data Analysis Lab\n",
    "\n",
    "We will practice all that you’ve learned in a hands-on lab. This section features a set of analysis tasks that provide opportunities to apply the material from the previous sections. This lab comes in 2 formats &ndash; select the one that is most appropriate:\n",
    "\n",
    "- [Live Session](#Live-Session)\n",
    "- [Asynchronous Session](../asynchronous_lab/asynchronous_lab.ipynb#Asynchronous-Session)\n",
    "\n",
    "## Live Session\n",
    "\n",
    "The 10 individuals with the highest scores will also win a copy of [Hands-On Data Analysis with Pandas – Second Edition](https://www.amazon.com/Hands-Data-Analysis-Pandas-visualization-dp-1800563450/dp/1800563450/) (live session only).\n",
    "\n",
    "### Lab Tasks\n",
    "\n",
    "[This](https://forms.gle/wnyDZwCjgvn9fuHK9) Google form contains all the tasks for this lab. You can submit as many times as you wish, and you will be able to see which questions you got wrong (if any). The email addresses provided will be used to contact the winners. After the winners have been notified, all response data will be purged.\n",
    "\n",
    "#### Important notes:\n",
    "- The Google form will open when we arrive to this section of the training.\n",
    "- Time of submission will be used to break ties.\n",
    "- You don't have to answer all the questions to submit.\n",
    "- There are likely more questions than you will have time to answer, so be sure to submit before the session ends."
   ]
  },
  {
   "cell_type": "code",
   "execution_count": null,
   "id": "1f1c16d5-50e4-41bf-ad23-4ff036e4acbd",
   "metadata": {},
   "outputs": [],
   "source": []
  }
 ],
 "metadata": {
  "kernelspec": {
   "display_name": "Python 3",
   "language": "python",
   "name": "python3"
  },
  "language_info": {
   "codemirror_mode": {
    "name": "ipython",
    "version": 3
   },
   "file_extension": ".py",
   "mimetype": "text/x-python",
   "name": "python",
   "nbconvert_exporter": "python",
   "pygments_lexer": "ipython3",
   "version": "3.7.3"
  }
 },
 "nbformat": 4,
 "nbformat_minor": 5
}
