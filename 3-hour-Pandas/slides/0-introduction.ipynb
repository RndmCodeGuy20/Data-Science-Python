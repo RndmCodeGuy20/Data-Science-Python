{
 "cells": [
  {
   "cell_type": "markdown",
   "id": "8b7dfb40-1ef0-4621-89c3-87c5b226c023",
   "metadata": {
    "slideshow": {
     "slide_type": "slide"
    },
    "tags": []
   },
   "source": [
    "# Introduction to Data Analysis Using Pandas\n",
    "\n",
    "### Stefanie Molin"
   ]
  },
  {
   "cell_type": "markdown",
   "id": "d4e1f7fe-9777-477f-b361-08e448f03af7",
   "metadata": {
    "slideshow": {
     "slide_type": "subslide"
    },
    "tags": []
   },
   "source": [
    "## Bio\n",
    "\n",
    "- data scientist and software engineer at Bloomberg in New York City\n",
    "- working in information security\n",
    "- author of [Hands-On Data Analysis with Pandas](https://www.amazon.com/Hands-Data-Analysis-Pandas-visualization-dp-1800563450/dp/1800563450/) (currently on in its second edition)\n",
    "- BS in operations research from Columbia University\n",
    "- currently pursuing MS in computer science (ML specialization) from Georgia Tech"
   ]
  },
  {
   "cell_type": "markdown",
   "id": "0345e6e4-5c39-4c57-96d5-4b3980fe2e67",
   "metadata": {
    "slideshow": {
     "slide_type": "slide"
    },
    "tags": []
   },
   "source": [
    "### Prerequisites\n",
    "Consult the [README](https://github.com/stefmolin/pandas-workshop) for environment setup instructions or use [this](https://mybinder.org/v2/gh/stefmolin/binder-environments/pandas_workshop?urlpath=git-pull%3Frepo%3Dhttps%253A%252F%252Fgithub.com%252Fstefmolin%252Fpandas-workshop%26urlpath%3Dlab%252Ftree%252Fpandas-workshop%252F%26branch%3Dmaster) Binder environment."
   ]
  },
  {
   "cell_type": "markdown",
   "id": "6134e4a8-f4c8-4698-b970-d2e83ea9d922",
   "metadata": {
    "slideshow": {
     "slide_type": "slide"
    },
    "tags": []
   },
   "source": [
    "### Session Outline\n",
    "1. Getting Started With Pandas\n",
    "2. Data Wrangling\n",
    "3. Data Visualization\n",
    "4. Hands-On Data Analysis Lab"
   ]
  },
  {
   "cell_type": "markdown",
   "id": "def73df3-56b3-45a1-a157-2bb3488abef9",
   "metadata": {
    "slideshow": {
     "slide_type": "slide"
    },
    "tags": []
   },
   "source": [
    "## Let's get started\n",
    "\n",
    "*Be sure to follow along in the notebooks.*\n",
    "\n",
    "<img width=\"300\" src=\"https://www.pngkey.com/png/detail/42-428839_silhouette-face-bamboo-cartoon-wild-bear-cute-panda.png\" alt=\"Silhouette, Face, Bamboo, Cartoon, Wild, Bear, Cute - Panda Black And White@pngkey.com\">"
   ]
  }
 ],
 "metadata": {
  "kernelspec": {
   "display_name": "Python 3",
   "language": "python",
   "name": "python3"
  },
  "language_info": {
   "codemirror_mode": {
    "name": "ipython",
    "version": 3
   },
   "file_extension": ".py",
   "mimetype": "text/x-python",
   "name": "python",
   "nbconvert_exporter": "python",
   "pygments_lexer": "ipython3",
   "version": "3.7.3"
  }
 },
 "nbformat": 4,
 "nbformat_minor": 5
}
